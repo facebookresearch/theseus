{
 "cells": [
  {
   "cell_type": "code",
   "execution_count": 13,
   "metadata": {},
   "outputs": [
    {
     "data": {
      "image/png": "[encoded data removed]",
      "text/plain": [
       "<Figure size 640x480 with 1 Axes>"
      ]
     },
     "metadata": {},
     "output_type": "display_data"
    }
   ],
   "source": [
    "import torch\n",
    "\n",
    "torch.manual_seed(0)\n",
    "\n",
    "def generate_data(num_points=100, a=1, b=0.5, noise_factor=0.01):\n",
    "    # Generate data: 100 points sampled from the quadratic curve listed above\n",
    "    data_x = torch.rand((1, num_points))\n",
    "    noise = torch.randn((1, num_points)) * noise_factor\n",
    "    data_y = a * data_x.square() + b + noise\n",
    "    return data_x, data_y\n",
    "\n",
    "data_x, data_y = generate_data()\n",
    "\n",
    "# Plot the data\n",
    "import matplotlib.pyplot as plt\n",
    "fig, ax = plt.subplots()\n",
    "ax.scatter(data_x, data_y);\n",
    "ax.set_xlabel('x');\n",
    "ax.set_ylabel('y');\n"
   ]
  },
  {
   "cell_type": "code",
   "execution_count": 14,
   "metadata": {},
   "outputs": [],
   "source": [
    "import theseus as th\n",
    "\n",
    "# data is of type Variable\n",
    "x = th.Variable(data_x, name=\"x\")\n",
    "y = th.Variable(data_y, name=\"y\")\n",
    "\n",
    "# optimization variables are of type Vector with 1 degree of freedom (dof)\n",
    "a = th.Vector(1, name=\"a\")\n",
    "b = th.Vector(1, name=\"b\")"
   ]
  },
  {
   "cell_type": "code",
   "execution_count": 3,
   "metadata": {},
   "outputs": [],
   "source": [
    "def quad_error_fn(optim_vars, aux_vars):\n",
    "    a, b = optim_vars \n",
    "    x, y = aux_vars\n",
    "    est = a.tensor * x.tensor.square() + b.tensor\n",
    "    err = y.tensor - est\n",
    "    return err\n",
    "\n",
    "optim_vars = a, b\n",
    "aux_vars = x, y\n",
    "cost_function = th.AutoDiffCostFunction(\n",
    "    optim_vars, quad_error_fn, 100, aux_vars=aux_vars, name=\"quadratic_cost_fn\"\n",
    ")\n",
    "objective = th.Objective()\n",
    "objective.add(cost_function)\n",
    "\n",
    "optimizer = th.DCem(\n",
    "    objective,\n",
    "    max_iterations=50\n",
    ")\n",
    "theseus_optim = th.TheseusLayer(optimizer)\n"
   ]
  },
  {
   "cell_type": "code",
   "execution_count": 4,
   "metadata": {},
   "outputs": [],
   "source": [
    "# Step 3: Construct cost functions representing each error term\n",
    "# First term\n",
    "cf1 = th.Difference(x, a, w1, name=\"term_1\")\n",
    "# Second term\n",
    "cf2 = th.Difference(y, b, w2, name=\"term_2\")"
   ]
  },
  {
   "cell_type": "code",
   "execution_count": 5,
   "metadata": {},
   "outputs": [],
   "source": [
    "objective = th.Objective()\n",
    "objective.add(cf1)\n",
    "objective.add(cf2)"
   ]
  },
  {
   "cell_type": "code",
   "execution_count": 6,
   "metadata": {},
   "outputs": [
    {
     "name": "stdout",
     "output_type": "stream",
     "text": [
      "Error term 1: unweighted: tensor([[-0.5000]]) weighted: tensor([[-0.5000]])\n",
      "Error term 2: unweighted: tensor([[1.]]) weighted: tensor([[2.]])\n",
      "Objective value: tensor([4.2500])\n"
     ]
    }
   ],
   "source": [
    "# Step 5: Evaluate objective under current values\n",
    "# Note this needs to be preceded by a call to `objective.update`\n",
    "# Here we use the update function to set values of all variables\n",
    "objective.update({\"a\": torch.ones(1,1), \"b\": 2 * torch.ones(1, 1), \n",
    "                  \"x\": 0.5 * torch.ones(1,1), \"y\": 3 * torch.ones(1, 1)})\n",
    "# Weighted error should be: cost_weight * weighted_error \n",
    "print(f\"Error term 1: unweighted: {cf1.error()} weighted: {cf1.weighted_error()}\")\n",
    "print(f\"Error term 2: unweighted: {cf2.error()} weighted: {cf2.weighted_error()}\")\n",
    "# Objective value should be: (error1)^2 + (error2)^2 \n",
    "print(f\"Objective value: {objective.error_squared_norm()}\")"
   ]
  },
  {
   "cell_type": "code",
   "execution_count": 7,
   "metadata": {},
   "outputs": [],
   "source": [
    "# Recall that our objective is (x - a)^2 + 4 (y - b)^2\n",
    "# which is minimized at x = a and y = b\n",
    "# Let's start by assigning random values to them\n",
    "objective.update({\n",
    "    \"x\": torch.randn(1, 1),\n",
    "    \"y\": torch.randn(1, 1)\n",
    "})"
   ]
  },
  {
   "cell_type": "code",
   "execution_count": 8,
   "metadata": {},
   "outputs": [],
   "source": [
    "from theseus import DCem"
   ]
  },
  {
   "cell_type": "code",
   "execution_count": 9,
   "metadata": {},
   "outputs": [],
   "source": [
    "optimizer = DCem(objective)"
   ]
  },
  {
   "cell_type": "code",
   "execution_count": 10,
   "metadata": {},
   "outputs": [],
   "source": [
    "# info = optimizer.optimize()"
   ]
  },
  {
   "cell_type": "code",
   "execution_count": 11,
   "metadata": {},
   "outputs": [],
   "source": [
    "# print(info)"
   ]
  },
  {
   "cell_type": "code",
   "execution_count": 12,
   "metadata": {},
   "outputs": [
    {
     "name": "stdout",
     "output_type": "stream",
     "text": [
      "After calling TheseusLayer's forward():\n",
      "  Values: {'x': tensor([[1.0007]]), 'y': tensor([[2.0008]])}\n",
      "  Info: NonlinearOptimizerInfo(best_solution={'x': tensor([[1.0007]]), 'y': tensor([[2.0008]])}, status=array([<NonlinearOptimizerStatus.CONVERGED: 1>], dtype=object), converged_iter=tensor([6]), best_iter=tensor([5]), err_history=None, last_err=tensor([1.3112e-05]), best_err=tensor([1.6031e-06]), state_history={'x': tensor([[[0.3778, 0.7164, 0.8958, 0.9575, 1.0008, 0.9950, 1.0007,    inf,\n",
      "             inf,    inf,    inf,    inf,    inf,    inf,    inf,    inf,\n",
      "             inf,    inf,    inf,    inf,    inf,    inf,    inf,    inf,\n",
      "             inf,    inf,    inf,    inf,    inf,    inf,    inf,    inf,\n",
      "             inf,    inf,    inf,    inf,    inf,    inf,    inf,    inf,\n",
      "             inf,    inf,    inf,    inf,    inf,    inf,    inf,    inf,\n",
      "             inf,    inf,    inf]]]), 'y': tensor([[[-0.7707,  0.9293,  1.6050,  1.9153,  1.9808,  2.0006,  2.0008,\n",
      "              inf,     inf,     inf,     inf,     inf,     inf,     inf,\n",
      "              inf,     inf,     inf,     inf,     inf,     inf,     inf,\n",
      "              inf,     inf,     inf,     inf,     inf,     inf,     inf,\n",
      "              inf,     inf,     inf,     inf,     inf,     inf,     inf,\n",
      "              inf,     inf,     inf,     inf,     inf,     inf,     inf,\n",
      "              inf,     inf,     inf,     inf,     inf,     inf,     inf,\n",
      "              inf,     inf]]])})\n",
      "  Optimized objective: tensor([3.2062e-06])\n"
     ]
    }
   ],
   "source": [
    "layer = th.TheseusLayer(optimizer)\n",
    "values, info = layer.forward({\n",
    "    \"x\": torch.randn(1, 1),\n",
    "    \"y\": torch.randn(1, 1),\n",
    "    \"a\": torch.ones(1, 1),\n",
    "    \"b\": 2 * torch.ones(1, 1),\n",
    "    \"w1_sqrt\": torch.ones(1, 1)\n",
    "})\n",
    "print(f\"After calling TheseusLayer's forward():\")\n",
    "print(f\"  Values: {values}\")\n",
    "print(f\"  Info: {info}\")\n",
    "print(f\"  Optimized objective: {objective.error_squared_norm()}\")"
   ]
  },
  {
   "cell_type": "code",
   "execution_count": null,
   "metadata": {},
   "outputs": [],
   "source": []
  }
 ],
 "metadata": {
  "kernelspec": {
   "display_name": "Python 3.8.10 ('venv': venv)",
   "language": "python",
   "name": "python3"
  },
  "language_info": {
   "codemirror_mode": {
    "name": "ipython",
    "version": 3
   },
   "file_extension": ".py",
   "mimetype": "text/x-python",
   "name": "python",
   "nbconvert_exporter": "python",
   "pygments_lexer": "ipython3",
   "version": "3.8.10"
  },
  "orig_nbformat": 4,
  "vscode": {
   "interpreter": {
    "hash": "3e0c13190524e85dc0f5df39d21f02481023ea6f4be2902bd88be2f3b2a00e4d"
   }
  }
 },
 "nbformat": 4,
 "nbformat_minor": 2
}
