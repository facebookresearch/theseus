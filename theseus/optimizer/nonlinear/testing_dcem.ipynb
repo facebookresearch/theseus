{
 "cells": [
  {
   "cell_type": "code",
   "execution_count": 1,
   "metadata": {},
   "outputs": [],
   "source": [
    "\n",
    "import torch\n",
    "import theseus as th"
   ]
  },
  {
   "cell_type": "code",
   "execution_count": 2,
   "metadata": {},
   "outputs": [],
   "source": [
    "# Step 1: Construct optimization and auxiliary variables.\n",
    "# Construct variables of the function: these the optimization variables of the cost functions. \n",
    "x = th.Vector(1, name=\"x\")\n",
    "y = th.Vector(1, name=\"y\")\n",
    "\n",
    "# Construct auxiliary variables for the constants of the function.\n",
    "a = th.Vector(tensor=torch.randn(1,1), name=\"a\")\n",
    "b = th.Vector(tensor=torch.randn(1,1), name=\"b\")\n"
   ]
  },
  {
   "cell_type": "code",
   "execution_count": 3,
   "metadata": {},
   "outputs": [],
   "source": [
    "# Step 2: Construct cost weights\n",
    "# For w1, let's use a named variable\n",
    "w1 = th.ScaleCostWeight(th.Variable(tensor=torch.ones(1, 1), name=\"w1_sqrt\"))\n",
    "w2 = th.ScaleCostWeight(2.0)  # we provide 2, as sqrt of 4 for the (y-b)^2 term\n"
   ]
  },
  {
   "cell_type": "code",
   "execution_count": 4,
   "metadata": {},
   "outputs": [],
   "source": [
    "# Step 3: Construct cost functions representing each error term\n",
    "# First term\n",
    "cf1 = th.Difference(x, a, w1, name=\"term_1\")\n",
    "# Second term\n",
    "cf2 = th.Difference(y, b, w2, name=\"term_2\")"
   ]
  },
  {
   "cell_type": "code",
   "execution_count": 5,
   "metadata": {},
   "outputs": [],
   "source": [
    "objective = th.Objective()\n",
    "objective.add(cf1)\n",
    "objective.add(cf2)"
   ]
  },
  {
   "cell_type": "code",
   "execution_count": 6,
   "metadata": {},
   "outputs": [
    {
     "name": "stdout",
     "output_type": "stream",
     "text": [
      "Error term 1: unweighted: tensor([[-0.5000]]) weighted: tensor([[-0.5000]])\n",
      "Error term 2: unweighted: tensor([[1.]]) weighted: tensor([[2.]])\n",
      "Objective value: tensor([4.2500])\n"
     ]
    }
   ],
   "source": [
    "# Step 5: Evaluate objective under current values\n",
    "# Note this needs to be preceded by a call to `objective.update`\n",
    "# Here we use the update function to set values of all variables\n",
    "objective.update({\"a\": torch.ones(1,1), \"b\": 2 * torch.ones(1, 1), \n",
    "                  \"x\": 0.5 * torch.ones(1,1), \"y\": 3 * torch.ones(1, 1)})\n",
    "# Weighted error should be: cost_weight * weighted_error \n",
    "print(f\"Error term 1: unweighted: {cf1.error()} weighted: {cf1.weighted_error()}\")\n",
    "print(f\"Error term 2: unweighted: {cf2.error()} weighted: {cf2.weighted_error()}\")\n",
    "# Objective value should be: (error1)^2 + (error2)^2 \n",
    "print(f\"Objective value: {objective.error_squared_norm()}\")"
   ]
  },
  {
   "cell_type": "code",
   "execution_count": 7,
   "metadata": {},
   "outputs": [],
   "source": [
    "# Recall that our objective is (x - a)^2 + 4 (y - b)^2\n",
    "# which is minimized at x = a and y = b\n",
    "# Let's start by assigning random values to them\n",
    "objective.update({\n",
    "    \"x\": torch.randn(1, 1),\n",
    "    \"y\": torch.randn(1, 1)\n",
    "})"
   ]
  },
  {
   "cell_type": "code",
   "execution_count": 8,
   "metadata": {},
   "outputs": [],
   "source": [
    "from theseus import DCem"
   ]
  },
  {
   "cell_type": "code",
   "execution_count": 9,
   "metadata": {},
   "outputs": [],
   "source": [
    "optimizer = DCem(objective)"
   ]
  },
  {
   "cell_type": "code",
   "execution_count": 10,
   "metadata": {},
   "outputs": [],
   "source": [
    "info = optimizer.optimize()"
   ]
  },
  {
   "cell_type": "code",
   "execution_count": 11,
   "metadata": {},
   "outputs": [
    {
     "name": "stdout",
     "output_type": "stream",
     "text": [
      "NonlinearOptimizerInfo(best_solution={'x': tensor([[0.9817]]), 'y': tensor([[2.0044]])}, status=array([<NonlinearOptimizerStatus.CONVERGED: 1>], dtype=object), converged_iter=tensor([11]), best_iter=tensor([10]), err_history=None, last_err=tensor([0.0003]), best_err=tensor([0.0002]), state_history={'x': tensor([[[0.1911, 0.3977, 0.2998, 0.4183, 0.6281, 0.7238, 0.8143, 0.8742,\n",
      "          0.9574, 0.9695, 0.9784, 0.9817,    inf,    inf,    inf,    inf,\n",
      "             inf,    inf,    inf,    inf,    inf,    inf,    inf,    inf,\n",
      "             inf,    inf,    inf,    inf,    inf,    inf,    inf,    inf,\n",
      "             inf,    inf,    inf,    inf,    inf,    inf,    inf,    inf,\n",
      "             inf,    inf,    inf,    inf,    inf,    inf,    inf,    inf,\n",
      "             inf,    inf,    inf]]]), 'y': tensor([[[1.8450, 1.9849, 2.1282, 2.0758, 2.0860, 1.9331, 1.9625, 2.0039,\n",
      "          1.9951, 1.9991, 2.0048, 2.0044,    inf,    inf,    inf,    inf,\n",
      "             inf,    inf,    inf,    inf,    inf,    inf,    inf,    inf,\n",
      "             inf,    inf,    inf,    inf,    inf,    inf,    inf,    inf,\n",
      "             inf,    inf,    inf,    inf,    inf,    inf,    inf,    inf,\n",
      "             inf,    inf,    inf,    inf,    inf,    inf,    inf,    inf,\n",
      "             inf,    inf,    inf]]])})\n"
     ]
    }
   ],
   "source": [
    "print(info)"
   ]
  },
  {
   "cell_type": "code",
   "execution_count": null,
   "metadata": {},
   "outputs": [],
   "source": []
  }
 ],
 "metadata": {
  "kernelspec": {
   "display_name": "Python 3.8.10 ('venv': venv)",
   "language": "python",
   "name": "python3"
  },
  "language_info": {
   "codemirror_mode": {
    "name": "ipython",
    "version": 3
   },
   "file_extension": ".py",
   "mimetype": "text/x-python",
   "name": "python",
   "nbconvert_exporter": "python",
   "pygments_lexer": "ipython3",
   "version": "3.8.10"
  },
  "orig_nbformat": 4,
  "vscode": {
   "interpreter": {
    "hash": "3e0c13190524e85dc0f5df39d21f02481023ea6f4be2902bd88be2f3b2a00e4d"
   }
  }
 },
 "nbformat": 4,
 "nbformat_minor": 2
}
