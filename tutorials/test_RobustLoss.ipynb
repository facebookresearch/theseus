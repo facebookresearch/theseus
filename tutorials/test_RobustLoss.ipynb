{
 "cells": [
  {
   "cell_type": "markdown",
   "metadata": {},
   "source": [
    "<h1>Least-squares Optimization with Theseus</h1>\n",
    "This tutorial demonstrates how to solve a curve-fitting problem with Theseus. The examples in this tutorial are inspired by the [Ceres](https://ceres-solver.org/) [tutorial](http://ceres-solver.org/nnls_tutorial.html), and structured like the [curve-fitting example](http://ceres-solver.org/nnls_tutorial.html#curve-fitting) and [robust curve-fitting example](http://ceres-solver.org/nnls_tutorial.html#robust-curve-fitting) in Ceres.\n",
    "\n",
    "<h2>Quadratic curve-fitting</h2>\n",
    "In this tutorial, we will show how we can fit a quadratic function: <i>y = ax<sup>2</sup> + b</i>\n",
    "\n",
    "<h3>Step 0: Generating Data</h3>\n",
    "We first generate data by sampling points from the quadratic function <i>x<sup>2</sup> + 0.5</i>. To this, we add Gaussian noise with <i>&sigma; = 0.01</i>."
   ]
  },
  {
   "cell_type": "code",
   "execution_count": 354,
   "metadata": {
    "ExecuteTime": {
     "end_time": "2023-04-28T03:25:54.583328Z",
     "start_time": "2023-04-28T03:25:54.359063Z"
    }
   },
   "outputs": [
    {
     "data": {
      "image/png": "[encoded data removed]",
      "text/plain": [
       "<Figure size 432x288 with 2 Axes>"
      ]
     },
     "metadata": {
      "needs_background": "light"
     },
     "output_type": "display_data"
    }
   ],
   "source": [
    "import torch\n",
    "\n",
    "torch.manual_seed(0)\n",
    "\n",
    "def generate_data(num_points=100, a=1, b=0.5, noise_factor=0.01):\n",
    "    # Generate data: 100 points sampled from the quadratic curve listed above\n",
    "    data_x = torch.rand((3, num_points))\n",
    "    noise = torch.randn((3, num_points)) * noise_factor\n",
    "    data_y = a * data_x.square() + b + noise\n",
    "    return data_x, data_y\n",
    "\n",
    "data_x, data_y = generate_data()\n",
    "\n",
    "data_y[:,0:10] = data_y[:,0:10] * 10\n",
    "# Plot the data\n",
    "import matplotlib.pyplot as plt\n",
    "fig, ax = plt.subplots(2,1)\n",
    "ax[0].scatter(data_x[0], data_y[0]);\n",
    "ax[0].set_xlabel('x');\n",
    "ax[0].set_ylabel('y');\n",
    "\n",
    "ax[1].scatter(data_x[1], data_y[1]);\n",
    "ax[1].set_xlabel('x');\n",
    "ax[1].set_ylabel('y');"
   ]
  },
  {
   "cell_type": "markdown",
   "metadata": {},
   "source": [
    "We demonstrate how to use Theseus to solve this curve-fitting problem in 3 steps:\n",
    "<ul>\n",
    "<li>Step 1: Represent data and variables\n",
    "<li>Step 2: Set up optimization\n",
    "<li>Step 3: Run optimization\n",
    "</ul>\n",
    "\n",
    "<h3>Step 1: Represent data and variables in Theseus</h3>\n",
    "As we described in Tutorial 0, Theseus Variables are semantically divided into two main classes:\n",
    "<ul>\n",
    "<li><i>optimization variables</i>: those that will be modified by our non-linear least-squares optimizers to minimize the total cost function\n",
    "<li><i>auxiliary variables</i>: other variables required by the cost functions to carry out the optimization, but which will not be optimized by the non-linear least-squares optimizers, e.g., application data in this example (we will see more examples of )\n",
    "</ul>\n",
    "\n",
    "Our first step is to represent the data <i>(x, y)</i> and the optimization variables (<i>a</i> and <i>b</i>) in Theseus data structures.\n",
    "The optimization variables must be of type `Manifold`. For this example, we choose its `Vector` sub-class to represent <i>a</i> and <i>b</i>. Because they are one-dimensional quantities, we require only 1 degree-of-freedom in initializing these `Vector` objects. (Alternately, we could also represent both variables as a single 2-dimensional `Vector` object; however, this would change how the error functions are written.) The (auxiliary) data variables may be an instance of any `Variable` type. For this example, the type `Variable` itself suffices."
   ]
  },
  {
   "cell_type": "code",
   "execution_count": 355,
   "metadata": {
    "ExecuteTime": {
     "end_time": "2023-04-28T03:25:54.587617Z",
     "start_time": "2023-04-28T03:25:54.584895Z"
    }
   },
   "outputs": [],
   "source": [
    "import theseus as th\n",
    "\n",
    "# data is of type Variable\n",
    "x = th.Variable(data_x, name=\"x\")\n",
    "y = th.Variable(data_y, name=\"y\")\n",
    "\n",
    "# optimization variables are of type Vector with 1 degree of freedom (dof)\n",
    "a = th.Vector(1, name=\"a\")\n",
    "b = th.Vector(1, name=\"b\")\n",
    "ab = th.Vector(2, name=\"ab\")"
   ]
  },
  {
   "cell_type": "markdown",
   "metadata": {},
   "source": [
    "<h3>Step 2: Set up optimization</h3> \n",
    "    \n",
    "The residual errors of the least-squares fit is captured in a `CostFunction`. In this example, we will use the `AutoDiffCostFunction` provided by Theseus, which provides an easy-to-use way to capture arbitrary cost functions. The `AutoDiffCostFunction` only requires that we define the optimization variables and the auxiliary variables, and provide an error function that computes the residual errors. From there, it uses the PyTorch autograd to compute the Jacobians for the optimization variables via automatic differentiation. \n",
    "\n",
    "In the example below, the `quad_error_fn` captures the least-squares error of the quadratic function fitted with the two 1-dimensional `Vector` objects `a`, `b`. \n",
    "\n",
    "The total least-squares error can be captured by either one 100-dimensional `AutoDiffCostFunction` (where each dimension represents the error of one data point), or a set of 100 one-dimensional `AutoDiffCostFunction` (where instead each cost function captures the error of one data point). We use the former (i.e., one 100-dimensional `AutoDiffCostFunction`) in this example, but we will see examples of the latter in Tutorials 4 & 5.\n",
    "\n",
    "Finally, we combine the cost functions into a Theseus optimization problem:\n",
    "- The optimization criteria is represented by the `Objective`. This is constructed by adding all the cost functions to it.\n",
    "- We can then choose an optimizer and set some of its default configuration (e.g., `GaussNewton` with `max_iterations=15` in the example below).\n",
    "- The objective and its associated optimizer are then used to construct the `TheseusLayer`, which represents one layer of optimization"
   ]
  },
  {
   "cell_type": "code",
   "execution_count": 356,
   "metadata": {
    "ExecuteTime": {
     "end_time": "2023-04-28T03:25:54.611675Z",
     "start_time": "2023-04-28T03:25:54.588725Z"
    }
   },
   "outputs": [],
   "source": [
    "import warnings\n",
    "from typing import List, Optional, Tuple, Type\n",
    "\n",
    "import torch\n",
    "import theseus as th\n",
    "import abc\n",
    "\n",
    "from theseus.core.cost_weight import CostWeight\n",
    "from theseus.core.variable import Variable\n",
    "#from theseus.core.robust_loss import RobustLoss\n",
    "#from theseus.core.robust_cost_function import RobustCostFunction"
   ]
  },
  {
   "cell_type": "code",
   "execution_count": 357,
   "metadata": {
    "ExecuteTime": {
     "end_time": "2023-04-28T03:25:54.629084Z",
     "start_time": "2023-04-28T03:25:54.613445Z"
    }
   },
   "outputs": [],
   "source": [
    "_LOSS_EPS = 1e-20\n",
    "class RobustLoss(abc.ABC):\n",
    "    # .suqre() make it easier to compare with residual.square(), which is x\n",
    "    @classmethod\n",
    "    def evaluate(cls, x: torch.Tensor, log_radius: torch.Tensor) -> torch.Tensor:\n",
    "        return cls._evaluate_impl(x, log_radius.square()) \n",
    "    \n",
    "    @classmethod\n",
    "    def linearize(cls, x: torch.Tensor, log_radius: torch.Tensor) -> torch.Tensor:\n",
    "        return cls._linearize_impl(x, log_radius.square())\n",
    "\n",
    "    @staticmethod\n",
    "    @abc.abstractmethod\n",
    "    def _evaluate_impl(x: torch.Tensor, radius: torch.Tensor) -> torch.Tensor:\n",
    "        pass\n",
    "\n",
    "    @staticmethod\n",
    "    @abc.abstractmethod\n",
    "    def _linearize_impl(x: torch.Tensor, raidus: torch.Tensor) -> torch.Tensor:\n",
    "        pass\n",
    "\n",
    "\n",
    "class WelschLoss(RobustLoss):\n",
    "    @staticmethod\n",
    "    def _evaluate_impl(x: torch.Tensor, radius: torch.Tensor) -> torch.Tensor:\n",
    "        return radius - radius * torch.exp(-x / (radius + _LOSS_EPS))\n",
    "\n",
    "    @staticmethod\n",
    "    def _linearize_impl(x: torch.Tensor, radius: torch.Tensor) -> torch.Tensor:\n",
    "        return torch.exp(-x / (radius + _LOSS_EPS))\n",
    "\n",
    "\n",
    "class HuberLoss(RobustLoss):\n",
    "    @staticmethod\n",
    "    def _evaluate_impl(x: torch.Tensor, radius: torch.Tensor) -> torch.Tensor:\n",
    "        return torch.where(\n",
    "            x > radius, 2 * torch.sqrt(radius * x.max(radius) + _LOSS_EPS) - radius, x\n",
    "        )\n",
    "\n",
    "\n",
    "    @staticmethod\n",
    "    def _linearize_impl(x: torch.Tensor, radius: torch.Tensor) -> torch.Tensor:\n",
    "        return torch.sqrt(radius / torch.max(x, radius) + _LOSS_EPS)\n"
   ]
  },
  {
   "cell_type": "code",
   "execution_count": 358,
   "metadata": {
    "ExecuteTime": {
     "end_time": "2023-04-28T03:25:54.645963Z",
     "start_time": "2023-04-28T03:25:54.630270Z"
    }
   },
   "outputs": [],
   "source": [
    "class RobustCostFunction(th.CostFunction):\n",
    "    _EPS = 1e-20\n",
    "\n",
    "    def __init__(\n",
    "        self,\n",
    "        cost_function: th.CostFunction,\n",
    "        loss_cls: Type[RobustLoss],\n",
    "        log_loss_radius: Variable,\n",
    "        RobustSum: bool = False,\n",
    "        name: Optional[str] = None,\n",
    "    ):\n",
    "        self.cost_function = cost_function\n",
    "        super().__init__(cost_function.weight, name=name)\n",
    "\n",
    "        # Register optimization variables of the underlying cost function\n",
    "        for attr in cost_function._optim_vars_attr_names:\n",
    "            setattr(self, attr, getattr(cost_function, attr))\n",
    "            self.register_optim_var(attr)\n",
    "\n",
    "        # Register auxiliary variables of the underlying cost function\n",
    "        for attr in cost_function._aux_vars_attr_names:\n",
    "            setattr(self, attr, getattr(cost_function, attr))\n",
    "            self.register_aux_var(attr)\n",
    "\n",
    "        self.log_loss_radius = log_loss_radius\n",
    "        self.register_aux_var(\"log_loss_radius\")\n",
    "        self.loss = loss_cls()\n",
    "        self.RobustSum = RobustSum\n",
    "\n",
    "    def error(self) -> torch.Tensor:\n",
    "        warnings.warn(\n",
    "            \"Computing the robust cost error requires weighting first, so \"\n",
    "            \"error() is equivalent to weighted_error().\"\n",
    "        )\n",
    "        return self.weighted_error()\n",
    "\n",
    "    def weighted_error(self) -> torch.Tensor:\n",
    "        weighted_error = self.cost_function.weighted_error()\n",
    "        \n",
    "        if self.RobustSum:\n",
    "            squared_norm = torch.sum(weighted_error**2, dim=1, keepdim=True)\n",
    "            error_loss = self.loss.evaluate(squared_norm, self.log_loss_radius.tensor)\n",
    "            return (\n",
    "            torch.ones_like(weighted_error)\n",
    "            * (error_loss / self.dim() + RobustCostFunction._EPS).sqrt()\n",
    "            )\n",
    "        else:\n",
    "            squared_norm = weighted_error**2\n",
    "            error_loss = self.loss.evaluate(squared_norm, self.log_loss_radius.tensor)\n",
    "            return (\n",
    "              (error_loss  + RobustCostFunction._EPS).sqrt()\n",
    "            )\n",
    "        # Inside will compare squared_norm with exp(radius)\n",
    "        \n",
    "        #print(weighted_error, error_loss)\n",
    "        #print(\"scaled\", error_loss)\n",
    "        #print(self.dim())\n",
    "        # The return value is a hacky way to make it so that\n",
    "        # ||weighted_error||^2 = error_loss\n",
    "        # By doing this we avoid having to change the objective's error computation\n",
    "        # specifically for robust cost functions. The issue for this type of cost\n",
    "        # function is that the theory requires us to maintain scaled errors/jacobians\n",
    "        # of dim = robust_fn.cost_function.dim() to do the linearization properly,\n",
    "        # but the actual error has dim = 1, being the result of loss(||error||^2).\n",
    "        \n",
    "\n",
    "    def jacobians(self) -> Tuple[List[torch.Tensor], torch.Tensor]:\n",
    "        warnings.warn(\n",
    "            \"Computing the robust cost error requires weighting first, so \"\n",
    "            \"jacobians() is equivalent to weighted_jacobians_error().\"\n",
    "        )\n",
    "        return self.weighted_jacobians_error()\n",
    "\n",
    "    def weighted_jacobians_error(self) -> Tuple[List[torch.Tensor], torch.Tensor]:\n",
    "        (\n",
    "            weighted_jacobians,\n",
    "            weighted_error,\n",
    "        ) = self.cost_function.weighted_jacobians_error()\n",
    "        #squared_norm = torch.sum(weighted_error**2, dim=1, keepdim=True)\n",
    "        #print(len(weighted_jacobians), weighted_error.shape, weighted_error.dim(), self.cost_function.dim())\n",
    "        \n",
    "        # I do not check the linearization part. I assume they should be correct\n",
    "        \n",
    "        #print(rescale.shape)\n",
    "        # The rescale should be reshape as the jocobian shape such that the multipilication works and fulfill the chain rule\n",
    "\n",
    "        \n",
    "        if self.RobustSum:\n",
    "        \n",
    "            squared_norm = torch.sum(weighted_error**2, dim=1, keepdim=True)\n",
    "            rescale = (\n",
    "                self.loss.linearize(squared_norm, self.log_loss_radius.tensor)\n",
    "                + RobustCostFunction._EPS\n",
    "            ).sqrt()\n",
    "\n",
    "            return [\n",
    "                rescale.view(-1, 1, 1) * jacobian for jacobian in weighted_jacobians\n",
    "            ], rescale * weighted_error\n",
    "        \n",
    "        else:\n",
    "            squared_norm = weighted_error**2\n",
    "            rescale = (\n",
    "                self.loss.linearize(squared_norm, self.log_loss_radius.tensor)\n",
    "                + RobustCostFunction._EPS\n",
    "            ).sqrt()\n",
    "            \n",
    "            for jacobian in weighted_jacobians:\n",
    "                rescale_tile = rescale.unsqueeze(2)\n",
    "                rescale_tile = torch.tile(rescale_tile, (1, 1, jacobian.shape[2]))\n",
    "\n",
    "            return [\n",
    "                rescale_tile * jacobian for jacobian in weighted_jacobians\n",
    "            ], rescale * weighted_error\n",
    "        \n",
    "        \n",
    "\n",
    "    def dim(self) -> int:\n",
    "        return self.cost_function.dim()\n",
    "\n",
    "    def _copy_impl(self, new_name: Optional[str] = None) -> \"RobustCostFunction\":\n",
    "        return RobustCostFunction(\n",
    "            self.cost_function.copy(),\n",
    "            type(self.loss),\n",
    "            self.log_loss_radius.copy(),\n",
    "            name=new_name,\n",
    "        )\n",
    "\n",
    "    @property\n",
    "    def weight(self) -> CostWeight:\n",
    "        return self.cost_function.weight\n",
    "\n",
    "    @weight.setter\n",
    "    def weight(self, weight: CostWeight):\n",
    "        self.cost_function.weight = weight\n",
    "\n",
    "    @property\n",
    "    def _supports_masking(self) -> bool:\n",
    "        return self.__supports_masking__\n",
    "\n",
    "    @_supports_masking.setter\n",
    "    def _supports_masking(self, val: bool):\n",
    "        self.cost_function._supports_masking = val\n",
    "        self.__supports_masking__ = val"
   ]
  },
  {
   "cell_type": "code",
   "execution_count": 359,
   "metadata": {
    "ExecuteTime": {
     "end_time": "2023-04-28T03:25:54.662941Z",
     "start_time": "2023-04-28T03:25:54.647122Z"
    }
   },
   "outputs": [],
   "source": [
    "def quad_error_fn(optim_vars, aux_vars):\n",
    "    a, b = optim_vars \n",
    "    x, y = aux_vars\n",
    "    est = a.tensor * x.tensor.square() + b.tensor\n",
    "    err = y.tensor - est\n",
    "    return err\n",
    "\n",
    "def quad_error_fn_ab(optim_vars, aux_vars):\n",
    "    [ab] = optim_vars \n",
    "    x, y = aux_vars\n",
    "    #print(x.shape ,\"ab\",ab.tensor.shape)\n",
    "    est = ab.tensor[:,0] * x.tensor.square() + ab.tensor[:,1]\n",
    "    #print(\"est\", est.shape)\n",
    "    err = y.tensor - est\n",
    "    #print(\"err\", err)\n",
    "    return err\n",
    "\n",
    "optim_vars_ab = [ab]\n",
    "optim_vars = a, b\n",
    "aux_vars = x, y\n",
    "cost_function = th.AutoDiffCostFunction(\n",
    "    optim_vars, quad_error_fn, 100, aux_vars=aux_vars, name=\"quad_error_fn\")\n",
    "\n",
    "log_loss_radius = th.Vector(1, name=\"log_loss_radius\", dtype=torch.float32)\n",
    "robust_cost_function = RobustCostFunction(\n",
    "            cost_function,\n",
    "            HuberLoss,\n",
    "            log_loss_radius,\n",
    "            True,\n",
    "            name=f\"robust_{cost_function.name}\",\n",
    "        )\n",
    "\n",
    "objective_ori = th.Objective()\n",
    "objective_ori.add(cost_function)\n",
    "optimizer_ori = th.GaussNewton(\n",
    "    objective_ori,\n",
    "    max_iterations=15,\n",
    "    step_size=0.5,\n",
    ")\n",
    "theseus_optim_ori = th.TheseusLayer(optimizer_ori)\n",
    "\n",
    "objective_robust = th.Objective()\n",
    "objective_robust.add(robust_cost_function)\n",
    "optimizer_robust = th.GaussNewton(\n",
    "    objective_robust,\n",
    "    max_iterations=15,\n",
    "    step_size=0.5,\n",
    ")\n",
    "theseus_optim_robust = th.TheseusLayer(optimizer_robust)"
   ]
  },
  {
   "cell_type": "markdown",
   "metadata": {},
   "source": [
    "<h3>Step 3: Run optimization</h3> \n",
    "Running the optimization problem now only requires that we provide the input data and initial values, and call the forward function on the `TheseusLayer`.\n",
    "\n",
    "The input is provided as a dictionary, where the keys represent either the optimization variables (which are paired with their initial values), or the auxiliary variables (which are paired with their data). The dictionary `theseus_inputs` shows an example of this.\n",
    "\n",
    "With this input, we can now run the least squares optimization in Theseus. We do this by calling the `forward` function on the `TheseusLayer`. Two quantities are returned after each call to the `forward` function:\n",
    "1. The `updated_inputs` object, which holds the final values for the optimized variables, along with unchanged auxiliary variable values. This allows us to use the `updated_inputs` as input to downstream functions or Theseus layers (e.g., for problems that require multiple forward passes, as we will see in Tutorial 2.)\n",
    "2. The `info` object, which can track the best solution if necessary, and holds other useful information about the optimization. The best solution is useful to track because the optimization algorithm does not stop if the error increases from an earlier iteration. (The best solution is not as useful when backpropagation is carried out, because backpropagation uses the entire optimization sequence; see Tutorial 2.)"
   ]
  },
  {
   "cell_type": "code",
   "execution_count": 360,
   "metadata": {
    "ExecuteTime": {
     "end_time": "2023-04-28T03:25:55.026108Z",
     "start_time": "2023-04-28T03:25:54.664432Z"
    }
   },
   "outputs": [
    {
     "name": "stderr",
     "output_type": "stream",
     "text": [
      "/home/ph/anaconda3/envs/FGO/lib/python3.10/site-packages/theseus/core/objective.py:547: UserWarning: Attempted to update a tensor with name log_loss_radius, which is not associated to any variable in the objective.\n",
      "  warnings.warn(\n"
     ]
    },
    {
     "name": "stdout",
     "output_type": "stream",
     "text": [
      "tensor([[ 6.0040,  8.8577,  4.0446,  3.9421,  4.6637,  7.3445,  5.9278, 10.8919,\n",
      "          5.6236,  7.3983, -0.6318, -0.6459, -0.5974, -0.5923, -0.6334, -0.7107,\n",
      "         -0.7834, -0.8400, -0.5917, -0.6297, -0.7797, -0.9340, -0.6467, -0.8917,\n",
      "         -0.6644, -0.7159, -0.9777, -0.5908, -0.6119, -0.6303, -0.6215, -0.9411,\n",
      "         -0.6257, -0.6238, -0.5898, -0.5827, -0.5968, -0.9054, -0.8039, -0.8114,\n",
      "         -0.6762, -0.5934, -0.7304, -0.6008, -0.5738, -0.6225, -0.8852, -0.8675,\n",
      "         -0.6205, -0.6824, -0.8595, -1.0145, -0.7826, -0.7038, -0.8644, -0.5903,\n",
      "         -0.7259, -0.6048, -0.5878, -0.6232, -0.7958, -0.7889, -0.5948, -0.7712,\n",
      "         -0.8223, -0.6656, -0.6759, -0.7422, -0.8531, -0.9758, -0.5868, -0.6123,\n",
      "         -0.7750, -0.9064, -0.9465, -0.9503, -0.7378, -0.5926, -0.7140, -0.6125,\n",
      "         -0.5966, -0.9565, -0.9223, -0.6029, -0.7288, -0.6491, -0.6451, -0.6064,\n",
      "         -0.7630, -0.6121, -0.7850, -0.8044, -0.8767, -0.7404, -0.5740, -0.6137,\n",
      "         -0.8244, -0.7294, -0.5834, -0.5887],\n",
      "        [11.6791,  9.8059,  4.7177,  4.9728,  3.8663,  6.0975,  4.1659,  4.0143,\n",
      "          6.0455,  6.6348, -0.5132, -0.9563, -0.5033, -1.1884, -1.0354, -0.4552,\n",
      "         -0.5650, -0.6629, -0.7285, -0.7446, -0.8495, -0.6678, -0.5040, -0.9019,\n",
      "         -0.4594, -0.4808, -0.5577, -0.4848, -0.5423, -0.4451, -0.5763, -0.7360,\n",
      "         -0.4518, -0.6212, -1.0559, -0.6095, -0.6706, -0.6099, -0.7505, -0.9919,\n",
      "         -1.2215, -0.9946, -1.2223, -0.6329, -0.4494, -0.5057, -1.0227, -0.6387,\n",
      "         -0.5132, -0.4610, -0.4324, -0.4651, -0.5794, -0.9616, -0.9271, -0.4570,\n",
      "         -0.9903, -0.4624, -0.5637, -0.5083, -0.5817, -0.5864, -0.4543, -0.4486,\n",
      "         -0.5915, -0.6752, -0.5163, -0.8308, -0.4507, -0.6202, -1.1846, -0.5214,\n",
      "         -1.2037, -0.8227, -0.4631, -0.9938, -0.6131, -0.5000, -1.1087, -0.4544,\n",
      "         -0.7057, -0.5816, -1.0532, -0.7993, -0.8961, -0.8344, -0.5739, -0.5932,\n",
      "         -0.4565, -0.9289, -1.1044, -1.0359, -0.4512, -0.6691, -0.4673, -0.4878,\n",
      "         -0.4815, -0.8165, -0.4960, -0.6521],\n",
      "        [ 6.2750,  9.2464,  4.0755,  4.2689,  4.5004,  9.7127,  4.7618, 10.3600,\n",
      "          7.6830,  6.4402, -0.6676, -0.5633, -0.7775, -0.5348, -0.6765, -0.7640,\n",
      "         -0.3203, -0.3986, -1.5070, -0.3197, -0.6328, -1.7423, -0.9973, -0.6846,\n",
      "         -0.3140, -1.1176, -0.3241, -0.5080, -0.4808, -0.5721, -0.6994, -1.5454,\n",
      "         -0.7668, -1.6122, -1.2375, -0.3613, -1.0653, -0.3367, -0.3989, -0.9368,\n",
      "         -0.9574, -1.4102, -0.4695, -0.6688, -1.1321, -0.3039, -1.3945, -0.3350,\n",
      "         -0.6786, -0.5632, -0.3921, -0.7765, -1.5241, -0.4740, -0.3757, -0.4532,\n",
      "         -0.3080, -1.0670, -0.4245, -0.3629, -0.3763, -1.2124, -1.1534, -1.4420,\n",
      "         -0.9773, -0.4751, -0.4889, -0.9148, -1.5181, -0.9062, -0.4172, -0.4305,\n",
      "         -0.3193, -0.8438, -0.3716, -0.3323, -1.5994, -0.3570, -0.6100, -0.9238,\n",
      "         -0.6915, -0.3481, -0.3225, -1.5000, -0.8032, -1.5354, -0.4783, -0.8998,\n",
      "         -0.5212, -0.6452, -0.3753, -0.9550, -0.9370, -0.6581, -0.5287, -0.3485,\n",
      "         -1.3548, -0.3283, -1.0487, -0.4754]])\n"
     ]
    },
    {
     "data": {
      "image/png": "[encoded data removed]",
      "text/plain": [
       "<Figure size 432x288 with 2 Axes>"
      ]
     },
     "metadata": {
      "needs_background": "light"
     },
     "output_type": "display_data"
    }
   ],
   "source": [
    "theseus_inputs = {\n",
    "\"x\": data_x,\n",
    "\"y\": data_y,\n",
    "\"a\": 10 * torch.ones((3, 1)),\n",
    "\"b\": 10*torch.ones((3, 1)),\n",
    "\"log_loss_radius\": torch.zeros((3, 1)),\n",
    "}\n",
    "#print(data_x.shape)\n",
    "with torch.no_grad():\n",
    "    updated_inputs, info = theseus_optim_ori.forward(\n",
    "        theseus_inputs, optimizer_kwargs={\"track_best_solution\": True, \"verbose\":False})\n",
    "#print(\"Best solution:\", info.best_solution)\n",
    "\n",
    "# Plot the optimized function\n",
    "fig, ax = plt.subplots(2,1)\n",
    "ax[0].scatter(data_x[0], data_y[0]);\n",
    "ax[1].scatter(data_x[1], data_y[1]);\n",
    "a = info.best_solution['a'].squeeze()\n",
    "b = info.best_solution['b'].squeeze()\n",
    "x1 = torch.linspace(0., 1., steps=100)\n",
    "y1 = a[0]*x1*x1 + b[0]\n",
    "x2 = torch.linspace(0., 1., steps=100)\n",
    "y2 = a[1]*x2*x2 + b[1]\n",
    "ax[0].plot(x1, y1, color='k', lw=4, linestyle='--',\n",
    "        label='Optimized quadratic')\n",
    "ax[0].legend()\n",
    "\n",
    "ax[0].set_xlabel('x');\n",
    "ax[0].set_ylabel('y');\n",
    "\n",
    "\n",
    "ax[1].plot(x2, y2, color='k', lw=4, linestyle='--',\n",
    "        label='Optimized quadratic')\n",
    "ax[1].legend()\n",
    "\n",
    "ax[1].set_xlabel('x');\n",
    "ax[1].set_ylabel('y');\n",
    "\n",
    "print(objective_ori.error())"
   ]
  },
  {
   "cell_type": "code",
   "execution_count": 361,
   "metadata": {
    "ExecuteTime": {
     "end_time": "2023-04-28T03:25:55.326231Z",
     "start_time": "2023-04-28T03:25:55.029249Z"
    }
   },
   "outputs": [
    {
     "name": "stdout",
     "output_type": "stream",
     "text": [
      "tensor([1.4160, 1.8174, 2.4521]) tensor([1.0855, 0.9499, 0.8132])\n",
      "tensor([[0.9292, 0.9292, 0.9292, 0.9292, 0.9292, 0.9292, 0.9292, 0.9292, 0.9292,\n",
      "         0.9292, 0.9292, 0.9292, 0.9292, 0.9292, 0.9292, 0.9292, 0.9292, 0.9292,\n",
      "         0.9292, 0.9292, 0.9292, 0.9292, 0.9292, 0.9292, 0.9292, 0.9292, 0.9292,\n",
      "         0.9292, 0.9292, 0.9292, 0.9292, 0.9292, 0.9292, 0.9292, 0.9292, 0.9292,\n",
      "         0.9292, 0.9292, 0.9292, 0.9292, 0.9292, 0.9292, 0.9292, 0.9292, 0.9292,\n",
      "         0.9292, 0.9292, 0.9292, 0.9292, 0.9292, 0.9292, 0.9292, 0.9292, 0.9292,\n",
      "         0.9292, 0.9292, 0.9292, 0.9292, 0.9292, 0.9292, 0.9292, 0.9292, 0.9292,\n",
      "         0.9292, 0.9292, 0.9292, 0.9292, 0.9292, 0.9292, 0.9292, 0.9292, 0.9292,\n",
      "         0.9292, 0.9292, 0.9292, 0.9292, 0.9292, 0.9292, 0.9292, 0.9292, 0.9292,\n",
      "         0.9292, 0.9292, 0.9292, 0.9292, 0.9292, 0.9292, 0.9292, 0.9292, 0.9292,\n",
      "         0.9292, 0.9292, 0.9292, 0.9292, 0.9292, 0.9292, 0.9292, 0.9292, 0.9292,\n",
      "         0.9292],\n",
      "        [0.9211, 0.9211, 0.9211, 0.9211, 0.9211, 0.9211, 0.9211, 0.9211, 0.9211,\n",
      "         0.9211, 0.9211, 0.9211, 0.9211, 0.9211, 0.9211, 0.9211, 0.9211, 0.9211,\n",
      "         0.9211, 0.9211, 0.9211, 0.9211, 0.9211, 0.9211, 0.9211, 0.9211, 0.9211,\n",
      "         0.9211, 0.9211, 0.9211, 0.9211, 0.9211, 0.9211, 0.9211, 0.9211, 0.9211,\n",
      "         0.9211, 0.9211, 0.9211, 0.9211, 0.9211, 0.9211, 0.9211, 0.9211, 0.9211,\n",
      "         0.9211, 0.9211, 0.9211, 0.9211, 0.9211, 0.9211, 0.9211, 0.9211, 0.9211,\n",
      "         0.9211, 0.9211, 0.9211, 0.9211, 0.9211, 0.9211, 0.9211, 0.9211, 0.9211,\n",
      "         0.9211, 0.9211, 0.9211, 0.9211, 0.9211, 0.9211, 0.9211, 0.9211, 0.9211,\n",
      "         0.9211, 0.9211, 0.9211, 0.9211, 0.9211, 0.9211, 0.9211, 0.9211, 0.9211,\n",
      "         0.9211, 0.9211, 0.9211, 0.9211, 0.9211, 0.9211, 0.9211, 0.9211, 0.9211,\n",
      "         0.9211, 0.9211, 0.9211, 0.9211, 0.9211, 0.9211, 0.9211, 0.9211, 0.9211,\n",
      "         0.9211],\n",
      "        [0.9564, 0.9564, 0.9564, 0.9564, 0.9564, 0.9564, 0.9564, 0.9564, 0.9564,\n",
      "         0.9564, 0.9564, 0.9564, 0.9564, 0.9564, 0.9564, 0.9564, 0.9564, 0.9564,\n",
      "         0.9564, 0.9564, 0.9564, 0.9564, 0.9564, 0.9564, 0.9564, 0.9564, 0.9564,\n",
      "         0.9564, 0.9564, 0.9564, 0.9564, 0.9564, 0.9564, 0.9564, 0.9564, 0.9564,\n",
      "         0.9564, 0.9564, 0.9564, 0.9564, 0.9564, 0.9564, 0.9564, 0.9564, 0.9564,\n",
      "         0.9564, 0.9564, 0.9564, 0.9564, 0.9564, 0.9564, 0.9564, 0.9564, 0.9564,\n",
      "         0.9564, 0.9564, 0.9564, 0.9564, 0.9564, 0.9564, 0.9564, 0.9564, 0.9564,\n",
      "         0.9564, 0.9564, 0.9564, 0.9564, 0.9564, 0.9564, 0.9564, 0.9564, 0.9564,\n",
      "         0.9564, 0.9564, 0.9564, 0.9564, 0.9564, 0.9564, 0.9564, 0.9564, 0.9564,\n",
      "         0.9564, 0.9564, 0.9564, 0.9564, 0.9564, 0.9564, 0.9564, 0.9564, 0.9564,\n",
      "         0.9564, 0.9564, 0.9564, 0.9564, 0.9564, 0.9564, 0.9564, 0.9564, 0.9564,\n",
      "         0.9564]])\n"
     ]
    },
    {
     "data": {
      "image/png": "[encoded data removed]",
      "text/plain": [
       "<Figure size 432x288 with 2 Axes>"
      ]
     },
     "metadata": {
      "needs_background": "light"
     },
     "output_type": "display_data"
    }
   ],
   "source": [
    "radius = 2 # change it larger than the outlinear residual, then it will perform as NO rubust function\n",
    "theseus_inputs = {\n",
    "\"x\": data_x,\n",
    "\"y\": data_y,\n",
    "\"a\": 10 * torch.ones((3, 1)),\n",
    "\"b\": 10*torch.ones((3, 1)),\n",
    "\"log_loss_radius\": torch.ones((3, 1))*radius,\n",
    "}\n",
    "#print(data_x.shape)\n",
    "with torch.no_grad():\n",
    "    updated_inputs, info = theseus_optim_robust.forward(\n",
    "        theseus_inputs, optimizer_kwargs={\"track_best_solution\": True, \"verbose\":False})\n",
    "#print(\"Best solution:\", info.best_solution)\n",
    "\n",
    "# Plot the optimized function\n",
    "fig, ax = plt.subplots(2,1)\n",
    "ax[0].scatter(data_x[0], data_y[0]);\n",
    "ax[1].scatter(data_x[1], data_y[1]);\n",
    "a = info.best_solution['a'].squeeze()\n",
    "b = info.best_solution['b'].squeeze()\n",
    "x1 = torch.linspace(0., 1., steps=100)\n",
    "y1 = a[0]*x1*x1 + b[0]\n",
    "x2 = torch.linspace(0., 1., steps=100)\n",
    "y2 = a[1]*x2*x2 + b[1]\n",
    "ax[0].plot(x1, y1, color='k', lw=4, linestyle='--',\n",
    "        label='Optimized quadratic')\n",
    "ax[0].legend()\n",
    "\n",
    "ax[0].set_xlabel('x');\n",
    "ax[0].set_ylabel('y');\n",
    "\n",
    "\n",
    "ax[1].plot(x2, y2, color='k', lw=4, linestyle='--',\n",
    "        label='Optimized quadratic')\n",
    "ax[1].legend()\n",
    "\n",
    "ax[1].set_xlabel('x');\n",
    "ax[1].set_ylabel('y');\n",
    "\n",
    "print(a, b)\n",
    "print(objective_robust.error())"
   ]
  },
  {
   "cell_type": "code",
   "execution_count": null,
   "metadata": {},
   "outputs": [],
   "source": []
  }
 ],
 "metadata": {
  "interpreter": {
   "hash": "cc5406e9a0deef8e8d80dfeae7f152b84172dd1229ee5c42b512f2c6ec6850e3"
  },
  "kernelspec": {
   "display_name": "Python 3 (ipykernel)",
   "language": "python",
   "name": "python3"
  },
  "language_info": {
   "codemirror_mode": {
    "name": "ipython",
    "version": 3
   },
   "file_extension": ".py",
   "mimetype": "text/x-python",
   "name": "python",
   "nbconvert_exporter": "python",
   "pygments_lexer": "ipython3",
   "version": "3.10.9"
  },
  "varInspector": {
   "cols": {
    "lenName": 16,
    "lenType": 16,
    "lenVar": 40
   },
   "kernels_config": {
    "python": {
     "delete_cmd_postfix": "",
     "delete_cmd_prefix": "del ",
     "library": "var_list.py",
     "varRefreshCmd": "print(var_dic_list())"
    },
    "r": {
     "delete_cmd_postfix": ") ",
     "delete_cmd_prefix": "rm(",
     "library": "var_list.r",
     "varRefreshCmd": "cat(var_dic_list()) "
    }
   },
   "types_to_exclude": [
    "module",
    "function",
    "builtin_function_or_method",
    "instance",
    "_Feature"
   ],
   "window_display": false
  }
 },
 "nbformat": 4,
 "nbformat_minor": 4
}
