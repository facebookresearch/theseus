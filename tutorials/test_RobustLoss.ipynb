{
 "cells": [
  {
   "cell_type": "markdown",
   "metadata": {},
   "source": [
    "<h1>Least-squares Optimization with Theseus</h1>\n",
    "This tutorial demonstrates how to solve a curve-fitting problem with Theseus. The examples in this tutorial are inspired by the [Ceres](https://ceres-solver.org/) [tutorial](http://ceres-solver.org/nnls_tutorial.html), and structured like the [curve-fitting example](http://ceres-solver.org/nnls_tutorial.html#curve-fitting) and [robust curve-fitting example](http://ceres-solver.org/nnls_tutorial.html#robust-curve-fitting) in Ceres.\n",
    "\n",
    "<h2>Quadratic curve-fitting</h2>\n",
    "In this tutorial, we will show how we can fit a quadratic function: <i>y = ax<sup>2</sup> + b</i>\n",
    "\n",
    "<h3>Step 0: Generating Data</h3>\n",
    "We first generate data by sampling points from the quadratic function <i>x<sup>2</sup> + 0.5</i>. To this, we add Gaussian noise with <i>&sigma; = 0.01</i>."
   ]
  },
  {
   "cell_type": "code",
   "execution_count": 243,
   "metadata": {
    "ExecuteTime": {
     "end_time": "2023-04-27T04:41:36.729301Z",
     "start_time": "2023-04-27T04:41:36.591047Z"
    }
   },
   "outputs": [
    {
     "data": {
      "image/png": "[encoded data removed]",
      "text/plain": [
       "<Figure size 432x288 with 2 Axes>"
      ]
     },
     "metadata": {
      "needs_background": "light"
     },
     "output_type": "display_data"
    }
   ],
   "source": [
    "import torch\n",
    "\n",
    "torch.manual_seed(0)\n",
    "\n",
    "def generate_data(num_points=100, a=1, b=0.5, noise_factor=0.01):\n",
    "    # Generate data: 100 points sampled from the quadratic curve listed above\n",
    "    data_x = torch.rand((2, num_points))\n",
    "    noise = torch.randn((2, num_points)) * noise_factor\n",
    "    data_y = a * data_x.square() + b + noise\n",
    "    return data_x, data_y\n",
    "\n",
    "data_x, data_y = generate_data()\n",
    "\n",
    "data_y[:,0:10] = data_y[:,0:10] * 10\n",
    "# Plot the data\n",
    "import matplotlib.pyplot as plt\n",
    "fig, ax = plt.subplots(2,1)\n",
    "ax[0].scatter(data_x[0], data_y[0]);\n",
    "ax[0].set_xlabel('x');\n",
    "ax[0].set_ylabel('y');\n",
    "\n",
    "ax[1].scatter(data_x[1], data_y[1]);\n",
    "ax[1].set_xlabel('x');\n",
    "ax[1].set_ylabel('y');"
   ]
  },
  {
   "cell_type": "markdown",
   "metadata": {},
   "source": [
    "We demonstrate how to use Theseus to solve this curve-fitting problem in 3 steps:\n",
    "<ul>\n",
    "<li>Step 1: Represent data and variables\n",
    "<li>Step 2: Set up optimization\n",
    "<li>Step 3: Run optimization\n",
    "</ul>\n",
    "\n",
    "<h3>Step 1: Represent data and variables in Theseus</h3>\n",
    "As we described in Tutorial 0, Theseus Variables are semantically divided into two main classes:\n",
    "<ul>\n",
    "<li><i>optimization variables</i>: those that will be modified by our non-linear least-squares optimizers to minimize the total cost function\n",
    "<li><i>auxiliary variables</i>: other variables required by the cost functions to carry out the optimization, but which will not be optimized by the non-linear least-squares optimizers, e.g., application data in this example (we will see more examples of )\n",
    "</ul>\n",
    "\n",
    "Our first step is to represent the data <i>(x, y)</i> and the optimization variables (<i>a</i> and <i>b</i>) in Theseus data structures.\n",
    "The optimization variables must be of type `Manifold`. For this example, we choose its `Vector` sub-class to represent <i>a</i> and <i>b</i>. Because they are one-dimensional quantities, we require only 1 degree-of-freedom in initializing these `Vector` objects. (Alternately, we could also represent both variables as a single 2-dimensional `Vector` object; however, this would change how the error functions are written.) The (auxiliary) data variables may be an instance of any `Variable` type. For this example, the type `Variable` itself suffices."
   ]
  },
  {
   "cell_type": "code",
   "execution_count": 244,
   "metadata": {
    "ExecuteTime": {
     "end_time": "2023-04-27T04:41:36.732856Z",
     "start_time": "2023-04-27T04:41:36.730430Z"
    }
   },
   "outputs": [],
   "source": [
    "import theseus as th\n",
    "\n",
    "# data is of type Variable\n",
    "x = th.Variable(data_x, name=\"x\")\n",
    "y = th.Variable(data_y, name=\"y\")\n",
    "\n",
    "# optimization variables are of type Vector with 1 degree of freedom (dof)\n",
    "a = th.Vector(1, name=\"a\")\n",
    "b = th.Vector(1, name=\"b\")\n",
    "ab = th.Vector(2, name=\"ab\")"
   ]
  },
  {
   "cell_type": "markdown",
   "metadata": {},
   "source": [
    "<h3>Step 2: Set up optimization</h3> \n",
    "    \n",
    "The residual errors of the least-squares fit is captured in a `CostFunction`. In this example, we will use the `AutoDiffCostFunction` provided by Theseus, which provides an easy-to-use way to capture arbitrary cost functions. The `AutoDiffCostFunction` only requires that we define the optimization variables and the auxiliary variables, and provide an error function that computes the residual errors. From there, it uses the PyTorch autograd to compute the Jacobians for the optimization variables via automatic differentiation. \n",
    "\n",
    "In the example below, the `quad_error_fn` captures the least-squares error of the quadratic function fitted with the two 1-dimensional `Vector` objects `a`, `b`. \n",
    "\n",
    "The total least-squares error can be captured by either one 100-dimensional `AutoDiffCostFunction` (where each dimension represents the error of one data point), or a set of 100 one-dimensional `AutoDiffCostFunction` (where instead each cost function captures the error of one data point). We use the former (i.e., one 100-dimensional `AutoDiffCostFunction`) in this example, but we will see examples of the latter in Tutorials 4 & 5.\n",
    "\n",
    "Finally, we combine the cost functions into a Theseus optimization problem:\n",
    "- The optimization criteria is represented by the `Objective`. This is constructed by adding all the cost functions to it.\n",
    "- We can then choose an optimizer and set some of its default configuration (e.g., `GaussNewton` with `max_iterations=15` in the example below).\n",
    "- The objective and its associated optimizer are then used to construct the `TheseusLayer`, which represents one layer of optimization"
   ]
  },
  {
   "cell_type": "code",
   "execution_count": 245,
   "metadata": {
    "ExecuteTime": {
     "end_time": "2023-04-27T04:41:36.755892Z",
     "start_time": "2023-04-27T04:41:36.733607Z"
    }
   },
   "outputs": [],
   "source": [
    "import warnings\n",
    "from typing import List, Optional, Tuple, Type\n",
    "\n",
    "import torch\n",
    "import theseus as th\n",
    "import abc\n",
    "\n",
    "from theseus.core.cost_weight import CostWeight\n",
    "from theseus.core.variable import Variable\n",
    "#from theseus.core.robust_loss import RobustLoss\n",
    "#from theseus.core.robust_cost_function import RobustCostFunction"
   ]
  },
  {
   "cell_type": "code",
   "execution_count": 246,
   "metadata": {
    "ExecuteTime": {
     "end_time": "2023-04-27T04:41:36.766782Z",
     "start_time": "2023-04-27T04:41:36.757075Z"
    }
   },
   "outputs": [],
   "source": [
    "_LOSS_EPS = 1e-20\n",
    "class RobustLoss(abc.ABC):\n",
    "    # .suqre() make it easier to compare with residual.square(), which is x\n",
    "    @classmethod\n",
    "    def evaluate(cls, x: torch.Tensor, log_radius: torch.Tensor) -> torch.Tensor:\n",
    "        return cls._evaluate_impl(x, log_radius.square()) \n",
    "    \n",
    "    @classmethod\n",
    "    def linearize(cls, x: torch.Tensor, log_radius: torch.Tensor) -> torch.Tensor:\n",
    "        return cls._linearize_impl(x, log_radius.square())\n",
    "\n",
    "    @staticmethod\n",
    "    @abc.abstractmethod\n",
    "    def _evaluate_impl(x: torch.Tensor, radius: torch.Tensor) -> torch.Tensor:\n",
    "        pass\n",
    "\n",
    "    @staticmethod\n",
    "    @abc.abstractmethod\n",
    "    def _linearize_impl(x: torch.Tensor, raidus: torch.Tensor) -> torch.Tensor:\n",
    "        pass\n",
    "\n",
    "\n",
    "class WelschLoss(RobustLoss):\n",
    "    @staticmethod\n",
    "    def _evaluate_impl(x: torch.Tensor, radius: torch.Tensor) -> torch.Tensor:\n",
    "        return radius - radius * torch.exp(-x / (radius + _LOSS_EPS))\n",
    "\n",
    "    @staticmethod\n",
    "    def _linearize_impl(x: torch.Tensor, radius: torch.Tensor) -> torch.Tensor:\n",
    "        return torch.exp(-x / (radius + _LOSS_EPS))\n",
    "\n",
    "\n",
    "class HuberLoss(RobustLoss):\n",
    "    @staticmethod\n",
    "    def _evaluate_impl(x: torch.Tensor, radius: torch.Tensor) -> torch.Tensor:\n",
    "        return torch.where(\n",
    "            x > radius, 2 * torch.sqrt(radius * x.max(radius) + _LOSS_EPS) - radius, x\n",
    "        )\n",
    "\n",
    "\n",
    "    @staticmethod\n",
    "    def _linearize_impl(x: torch.Tensor, radius: torch.Tensor) -> torch.Tensor:\n",
    "        return torch.sqrt(radius / torch.max(x, radius) + _LOSS_EPS)\n"
   ]
  },
  {
   "cell_type": "code",
   "execution_count": 247,
   "metadata": {
    "ExecuteTime": {
     "end_time": "2023-04-27T04:41:36.782920Z",
     "start_time": "2023-04-27T04:41:36.767569Z"
    }
   },
   "outputs": [],
   "source": [
    "class RobustCostFunction(th.CostFunction):\n",
    "    _EPS = 1e-20\n",
    "\n",
    "    def __init__(\n",
    "        self,\n",
    "        cost_function: th.CostFunction,\n",
    "        loss_cls: Type[RobustLoss],\n",
    "        log_loss_radius: Variable,\n",
    "        name: Optional[str] = None,\n",
    "    ):\n",
    "        self.cost_function = cost_function\n",
    "        super().__init__(cost_function.weight, name=name)\n",
    "\n",
    "        # Register optimization variables of the underlying cost function\n",
    "        for attr in cost_function._optim_vars_attr_names:\n",
    "            setattr(self, attr, getattr(cost_function, attr))\n",
    "            self.register_optim_var(attr)\n",
    "\n",
    "        # Register auxiliary variables of the underlying cost function\n",
    "        for attr in cost_function._aux_vars_attr_names:\n",
    "            setattr(self, attr, getattr(cost_function, attr))\n",
    "            self.register_aux_var(attr)\n",
    "\n",
    "        self.log_loss_radius = log_loss_radius\n",
    "        self.register_aux_var(\"log_loss_radius\")\n",
    "        self.loss = loss_cls()\n",
    "\n",
    "    def error(self) -> torch.Tensor:\n",
    "        warnings.warn(\n",
    "            \"Computing the robust cost error requires weighting first, so \"\n",
    "            \"error() is equivalent to weighted_error().\"\n",
    "        )\n",
    "        return self.weighted_error()\n",
    "\n",
    "    def weighted_error(self) -> torch.Tensor:\n",
    "        weighted_error = self.cost_function.weighted_error()\n",
    "        \n",
    "        squared_norm = weighted_error**2\n",
    "        # Inside will compare squared_norm with exp(radius)\n",
    "        error_loss = self.loss.evaluate(squared_norm, self.log_loss_radius.tensor)\n",
    "        #print(weighted_error, error_loss)\n",
    "        #print(\"scaled\", error_loss)\n",
    "        #print(self.dim())\n",
    "        # The return value is a hacky way to make it so that\n",
    "        # ||weighted_error||^2 = error_loss\n",
    "        # By doing this we avoid having to change the objective's error computation\n",
    "        # specifically for robust cost functions. The issue for this type of cost\n",
    "        # function is that the theory requires us to maintain scaled errors/jacobians\n",
    "        # of dim = robust_fn.cost_function.dim() to do the linearization properly,\n",
    "        # but the actual error has dim = 1, being the result of loss(||error||^2).\n",
    "        return (\n",
    "          (error_loss  + RobustCostFunction._EPS).sqrt()\n",
    "        )\n",
    "\n",
    "    def jacobians(self) -> Tuple[List[torch.Tensor], torch.Tensor]:\n",
    "        warnings.warn(\n",
    "            \"Computing the robust cost error requires weighting first, so \"\n",
    "            \"jacobians() is equivalent to weighted_jacobians_error().\"\n",
    "        )\n",
    "        return self.weighted_jacobians_error()\n",
    "\n",
    "    def weighted_jacobians_error(self) -> Tuple[List[torch.Tensor], torch.Tensor]:\n",
    "        (\n",
    "            weighted_jacobians,\n",
    "            weighted_error,\n",
    "        ) = self.cost_function.weighted_jacobians_error()\n",
    "        #squared_norm = torch.sum(weighted_error**2, dim=1, keepdim=True)\n",
    "        #print(weighted_error.shape)\n",
    "        # I do not check the linearization part. I assume they should be correct\n",
    "        squared_norm = weighted_error**2\n",
    "        rescale = (\n",
    "            self.loss.linearize(squared_norm, self.log_loss_radius.tensor)\n",
    "            + RobustCostFunction._EPS\n",
    "        ).sqrt()\n",
    "        #print(rescale.shape)\n",
    "        # The rescale should be reshape as the jocobian shape such that the multipilication works and fulfill the chain rule\n",
    "        # However, I am not quite sure about the below code is universal to different type of problems, especially\n",
    "        # the final dimension in rescale.view(weighted_error.shape[0], weighted_error.shape[1], 1), In my case,\n",
    "        # I will split the vector-form aux input to single one. For example,\n",
    "        # the position vector P, I will split it in to x, y, z.\n",
    "        # Currently, the aux input are all in (Batch, dim), I am not sure whether there is a case, the aux input is\n",
    "        # with 3 axis, which is (Batch, dim1, dim2)\n",
    "\n",
    "        return [\n",
    "            rescale.view(weighted_error.shape[0], weighted_error.shape[1], 1) * jacobian for jacobian in weighted_jacobians\n",
    "        ], rescale.view(weighted_error.shape[0], weighted_error.shape[1]) * weighted_error\n",
    "\n",
    "    def dim(self) -> int:\n",
    "        return self.cost_function.dim()\n",
    "\n",
    "    def _copy_impl(self, new_name: Optional[str] = None) -> \"RobustCostFunction\":\n",
    "        return RobustCostFunction(\n",
    "            self.cost_function.copy(),\n",
    "            type(self.loss),\n",
    "            self.log_loss_radius.copy(),\n",
    "            name=new_name,\n",
    "        )\n",
    "\n",
    "    @property\n",
    "    def weight(self) -> CostWeight:\n",
    "        return self.cost_function.weight\n",
    "\n",
    "    @weight.setter\n",
    "    def weight(self, weight: CostWeight):\n",
    "        self.cost_function.weight = weight\n",
    "\n",
    "    @property\n",
    "    def _supports_masking(self) -> bool:\n",
    "        return self.__supports_masking__\n",
    "\n",
    "    @_supports_masking.setter\n",
    "    def _supports_masking(self, val: bool):\n",
    "        self.cost_function._supports_masking = val\n",
    "        self.__supports_masking__ = val"
   ]
  },
  {
   "cell_type": "code",
   "execution_count": 248,
   "metadata": {
    "ExecuteTime": {
     "end_time": "2023-04-27T04:41:36.803243Z",
     "start_time": "2023-04-27T04:41:36.783710Z"
    }
   },
   "outputs": [],
   "source": [
    "def quad_error_fn(optim_vars, aux_vars):\n",
    "    a, b = optim_vars \n",
    "    x, y = aux_vars\n",
    "    est = a.tensor * x.tensor.square() + b.tensor\n",
    "    err = y.tensor - est\n",
    "    return err\n",
    "\n",
    "def quad_error_fn_ab(optim_vars, aux_vars):\n",
    "    [ab] = optim_vars \n",
    "    x, y = aux_vars\n",
    "    #print(x.shape ,\"ab\",ab.tensor.shape)\n",
    "    est = ab.tensor[:,0] * x.tensor.square() + ab.tensor[:,1]\n",
    "    #print(\"est\", est.shape)\n",
    "    err = y.tensor - est\n",
    "    #print(\"err\", err)\n",
    "    return err\n",
    "\n",
    "optim_vars_ab = [ab]\n",
    "optim_vars = a, b\n",
    "aux_vars = x, y\n",
    "cost_function = th.AutoDiffCostFunction(\n",
    "    optim_vars, quad_error_fn, 100, aux_vars=aux_vars, name=\"quad_error_fn\")\n",
    "\n",
    "log_loss_radius = th.Vector(1, name=\"log_loss_radius\", dtype=torch.float32)\n",
    "robust_cost_function = RobustCostFunction(\n",
    "            cost_function,\n",
    "            HuberLoss,\n",
    "            log_loss_radius,\n",
    "            name=f\"robust_{cost_function.name}\",\n",
    "        )\n",
    "\n",
    "objective_ori = th.Objective()\n",
    "objective_ori.add(cost_function)\n",
    "optimizer_ori = th.GaussNewton(\n",
    "    objective_ori,\n",
    "    max_iterations=15,\n",
    "    step_size=0.5,\n",
    ")\n",
    "theseus_optim_ori = th.TheseusLayer(optimizer_ori)\n",
    "\n",
    "objective_robust = th.Objective()\n",
    "objective_robust.add(robust_cost_function)\n",
    "optimizer_robust = th.GaussNewton(\n",
    "    objective_robust,\n",
    "    max_iterations=15,\n",
    "    step_size=0.5,\n",
    ")\n",
    "theseus_optim_robust = th.TheseusLayer(optimizer_robust)"
   ]
  },
  {
   "cell_type": "markdown",
   "metadata": {},
   "source": [
    "<h3>Step 3: Run optimization</h3> \n",
    "Running the optimization problem now only requires that we provide the input data and initial values, and call the forward function on the `TheseusLayer`.\n",
    "\n",
    "The input is provided as a dictionary, where the keys represent either the optimization variables (which are paired with their initial values), or the auxiliary variables (which are paired with their data). The dictionary `theseus_inputs` shows an example of this.\n",
    "\n",
    "With this input, we can now run the least squares optimization in Theseus. We do this by calling the `forward` function on the `TheseusLayer`. Two quantities are returned after each call to the `forward` function:\n",
    "1. The `updated_inputs` object, which holds the final values for the optimized variables, along with unchanged auxiliary variable values. This allows us to use the `updated_inputs` as input to downstream functions or Theseus layers (e.g., for problems that require multiple forward passes, as we will see in Tutorial 2.)\n",
    "2. The `info` object, which can track the best solution if necessary, and holds other useful information about the optimization. The best solution is useful to track because the optimization algorithm does not stop if the error increases from an earlier iteration. (The best solution is not as useful when backpropagation is carried out, because backpropagation uses the entire optimization sequence; see Tutorial 2.)"
   ]
  },
  {
   "cell_type": "code",
   "execution_count": 249,
   "metadata": {
    "ExecuteTime": {
     "end_time": "2023-04-27T04:41:37.031498Z",
     "start_time": "2023-04-27T04:41:36.804113Z"
    }
   },
   "outputs": [
    {
     "name": "stderr",
     "output_type": "stream",
     "text": [
      "/home/ph/anaconda3/envs/FGO/lib/python3.10/site-packages/theseus/core/objective.py:547: UserWarning: Attempted to update a tensor with name log_loss_radius, which is not associated to any variable in the objective.\n",
      "  warnings.warn(\n"
     ]
    },
    {
     "name": "stdout",
     "output_type": "stream",
     "text": [
      "tensor([[ 5.9849,  8.8238,  3.9333,  4.0194,  4.6668,  7.2298,  5.8959, 10.6241,\n",
      "          5.5932,  7.2852, -0.6311, -0.6435, -0.5859, -0.5816, -0.6170, -0.6981,\n",
      "         -0.7710, -0.8361, -0.5800, -0.6174, -0.7722, -0.9429, -0.6605, -0.8748,\n",
      "         -0.6506, -0.7112, -0.9247, -0.5801, -0.5869, -0.6237, -0.6204, -0.9326,\n",
      "         -0.6019, -0.5947, -0.6017, -0.5899, -0.5995, -0.9191, -0.7844, -0.7885,\n",
      "         -0.7036, -0.6237, -0.7028, -0.5836, -0.6067, -0.6057, -0.8521, -0.8242,\n",
      "         -0.6018, -0.6764, -0.8491, -0.9694, -0.7706, -0.7082, -0.8581, -0.5933,\n",
      "         -0.7218, -0.5983, -0.5851, -0.5950, -0.7700, -0.7864, -0.6062, -0.7564,\n",
      "         -0.8052, -0.6655, -0.6877, -0.7193, -0.8221, -0.9562, -0.5956, -0.6276,\n",
      "         -0.7722, -0.9190, -0.9193, -0.9283, -0.7334, -0.5721, -0.6981, -0.6031,\n",
      "         -0.5926, -0.9413, -0.8877, -0.5935, -0.7295, -0.6735, -0.6589, -0.6070,\n",
      "         -0.7645, -0.5987, -0.7633, -0.8257, -0.8850, -0.7681, -0.5773, -0.5818,\n",
      "         -0.8209, -0.7239, -0.6014, -0.6029],\n",
      "        [11.7316,  9.6593,  4.7640,  5.0740,  3.9435,  6.0615,  4.0974,  4.0703,\n",
      "          5.8041,  6.8085, -0.5165, -0.9611, -0.4950, -1.2000, -1.0171, -0.4726,\n",
      "         -0.5602, -0.6610, -0.7131, -0.7731, -0.8490, -0.6819, -0.4933, -0.8970,\n",
      "         -0.4557, -0.4868, -0.5791, -0.5081, -0.5239, -0.4482, -0.5719, -0.7471,\n",
      "         -0.5016, -0.6413, -1.0454, -0.6107, -0.6762, -0.6197, -0.7460, -0.9980,\n",
      "         -1.1992, -0.9786, -1.2282, -0.6401, -0.4570, -0.5141, -1.0400, -0.6548,\n",
      "         -0.5040, -0.4610, -0.4449, -0.4702, -0.5754, -0.9617, -0.9425, -0.4663,\n",
      "         -0.9819, -0.4733, -0.5690, -0.5351, -0.5791, -0.5821, -0.4494, -0.4409,\n",
      "         -0.5822, -0.6597, -0.4887, -0.8355, -0.4463, -0.6262, -1.1663, -0.5382,\n",
      "         -1.1767, -0.8017, -0.4489, -0.9902, -0.6202, -0.4899, -1.1093, -0.4490,\n",
      "         -0.7105, -0.5775, -1.0640, -0.8009, -0.9044, -0.8207, -0.5654, -0.5989,\n",
      "         -0.4417, -0.9396, -1.0895, -1.0386, -0.4501, -0.6842, -0.4594, -0.4785,\n",
      "         -0.4919, -0.8174, -0.4606, -0.6268]])\n"
     ]
    },
    {
     "data": {
      "image/png": "[encoded data removed]",
      "text/plain": [
       "<Figure size 432x288 with 2 Axes>"
      ]
     },
     "metadata": {
      "needs_background": "light"
     },
     "output_type": "display_data"
    }
   ],
   "source": [
    "theseus_inputs = {\n",
    "\"x\": data_x,\n",
    "\"y\": data_y,\n",
    "\"a\": 10 * torch.ones((2, 1)),\n",
    "\"b\": 10*torch.ones((2, 1)),\n",
    "\"log_loss_radius\": torch.zeros((2, 1)),\n",
    "}\n",
    "#print(data_x.shape)\n",
    "with torch.no_grad():\n",
    "    updated_inputs, info = theseus_optim_ori.forward(\n",
    "        theseus_inputs, optimizer_kwargs={\"track_best_solution\": True, \"verbose\":False})\n",
    "#print(\"Best solution:\", info.best_solution)\n",
    "\n",
    "# Plot the optimized function\n",
    "fig, ax = plt.subplots(2,1)\n",
    "ax[0].scatter(data_x[0], data_y[0]);\n",
    "ax[1].scatter(data_x[1], data_y[1]);\n",
    "a = info.best_solution['a'].squeeze()\n",
    "b = info.best_solution['b'].squeeze()\n",
    "x1 = torch.linspace(0., 1., steps=100)\n",
    "y1 = a[0]*x1*x1 + b[0]\n",
    "x2 = torch.linspace(0., 1., steps=100)\n",
    "y2 = a[1]*x2*x2 + b[1]\n",
    "ax[0].plot(x1, y1, color='k', lw=4, linestyle='--',\n",
    "        label='Optimized quadratic')\n",
    "ax[0].legend()\n",
    "\n",
    "ax[0].set_xlabel('x');\n",
    "ax[0].set_ylabel('y');\n",
    "\n",
    "\n",
    "ax[1].plot(x2, y2, color='k', lw=4, linestyle='--',\n",
    "        label='Optimized quadratic')\n",
    "ax[1].legend()\n",
    "\n",
    "ax[1].set_xlabel('x');\n",
    "ax[1].set_ylabel('y');\n",
    "\n",
    "print(objective_ori.error())"
   ]
  },
  {
   "cell_type": "code",
   "execution_count": 250,
   "metadata": {
    "ExecuteTime": {
     "end_time": "2023-04-27T04:41:37.249117Z",
     "start_time": "2023-04-27T04:41:37.032436Z"
    }
   },
   "outputs": [
    {
     "name": "stdout",
     "output_type": "stream",
     "text": [
      "tensor([0.9398, 0.9331]) tensor([0.7431, 0.7424])\n",
      "tensor([[4.6635, 5.8078, 3.6204, 3.6701, 4.0249, 5.1973, 4.6240, 6.4281, 4.4845,\n",
      "         5.2182, 0.2356, 0.2299, 0.2457, 0.2285, 0.2377, 0.2357, 0.2094, 0.2046,\n",
      "         0.2281, 0.2411, 0.2206, 0.2215, 0.2487, 0.1868, 0.2305, 0.2320, 0.1714,\n",
      "         0.2395, 0.2313, 0.2202, 0.2380, 0.1971, 0.2477, 0.2215, 0.2513, 0.2494,\n",
      "         0.2397, 0.1854, 0.2063, 0.1975, 0.2375, 0.2567, 0.2071, 0.2430, 0.2579,\n",
      "         0.2389, 0.2093, 0.1977, 0.2265, 0.2307, 0.2031, 0.1767, 0.2085, 0.2215,\n",
      "         0.2004, 0.2340, 0.2216, 0.2525, 0.2343, 0.2284, 0.1898, 0.2226, 0.2473,\n",
      "         0.2234, 0.1921, 0.2386, 0.2250, 0.2066, 0.1832, 0.1788, 0.2496, 0.2419,\n",
      "         0.2113, 0.1984, 0.1812, 0.1849, 0.2297, 0.2301, 0.2224, 0.2471, 0.2521,\n",
      "         0.1953, 0.1949, 0.2535, 0.2291, 0.2548, 0.2394, 0.2335, 0.2063, 0.2397,\n",
      "         0.2107, 0.2276, 0.2098, 0.2132, 0.2372, 0.2277, 0.2250, 0.2174, 0.2559,\n",
      "         0.2424],\n",
      "        [6.8616, 6.1595, 4.0205, 4.1974, 3.5501, 4.6825, 3.6429, 3.6270, 4.5643,\n",
      "         5.0229, 0.2326, 0.1935, 0.2543, 0.1897, 0.1830, 0.2604, 0.2288, 0.2129,\n",
      "         0.2162, 0.2282, 0.2139, 0.2270, 0.2285, 0.2108, 0.2485, 0.2433, 0.2481,\n",
      "         0.2431, 0.2237, 0.2342, 0.2281, 0.2149, 0.2680, 0.2357, 0.1883, 0.2261,\n",
      "         0.2361, 0.2285, 0.2199, 0.2002, 0.1548, 0.1813, 0.1820, 0.2432, 0.2479,\n",
      "         0.2461, 0.2091, 0.2299, 0.2413, 0.2421, 0.2372, 0.2580, 0.2282, 0.2253,\n",
      "         0.2114, 0.2591, 0.1927, 0.2560, 0.2248, 0.2502, 0.2283, 0.2326, 0.2402,\n",
      "         0.2299, 0.2182, 0.2263, 0.2161, 0.2100, 0.2373, 0.2273, 0.1793, 0.2539,\n",
      "         0.1700, 0.1850, 0.2400, 0.1946, 0.2405, 0.2154, 0.1871, 0.2340, 0.2328,\n",
      "         0.2326, 0.2082, 0.2327, 0.2134, 0.2094, 0.2311, 0.2543, 0.2280, 0.2077,\n",
      "         0.1718, 0.2052, 0.2241, 0.2364, 0.2333, 0.2271, 0.2466, 0.2130, 0.2176,\n",
      "         0.2086]])\n"
     ]
    },
    {
     "data": {
      "image/png": "[encoded data removed]",
      "text/plain": [
       "<Figure size 432x288 with 2 Axes>"
      ]
     },
     "metadata": {
      "needs_background": "light"
     },
     "output_type": "display_data"
    }
   ],
   "source": [
    "radius = 2 # change it larger than the outlinear residual, then it will perform as NO rubust function\n",
    "theseus_inputs = {\n",
    "\"x\": data_x,\n",
    "\"y\": data_y,\n",
    "\"a\": 10 * torch.ones((2, 1)),\n",
    "\"b\": 10*torch.ones((2, 1)),\n",
    "\"log_loss_radius\": torch.ones((2, 1))*radius,\n",
    "}\n",
    "#print(data_x.shape)\n",
    "with torch.no_grad():\n",
    "    updated_inputs, info = theseus_optim_robust.forward(\n",
    "        theseus_inputs, optimizer_kwargs={\"track_best_solution\": True, \"verbose\":False})\n",
    "#print(\"Best solution:\", info.best_solution)\n",
    "\n",
    "# Plot the optimized function\n",
    "fig, ax = plt.subplots(2,1)\n",
    "ax[0].scatter(data_x[0], data_y[0]);\n",
    "ax[1].scatter(data_x[1], data_y[1]);\n",
    "a = info.best_solution['a'].squeeze()\n",
    "b = info.best_solution['b'].squeeze()\n",
    "x1 = torch.linspace(0., 1., steps=100)\n",
    "y1 = a[0]*x1*x1 + b[0]\n",
    "x2 = torch.linspace(0., 1., steps=100)\n",
    "y2 = a[1]*x2*x2 + b[1]\n",
    "ax[0].plot(x1, y1, color='k', lw=4, linestyle='--',\n",
    "        label='Optimized quadratic')\n",
    "ax[0].legend()\n",
    "\n",
    "ax[0].set_xlabel('x');\n",
    "ax[0].set_ylabel('y');\n",
    "\n",
    "\n",
    "ax[1].plot(x2, y2, color='k', lw=4, linestyle='--',\n",
    "        label='Optimized quadratic')\n",
    "ax[1].legend()\n",
    "\n",
    "ax[1].set_xlabel('x');\n",
    "ax[1].set_ylabel('y');\n",
    "\n",
    "print(a, b)\n",
    "print(objective_robust.error())"
   ]
  },
  {
   "cell_type": "code",
   "execution_count": null,
   "metadata": {},
   "outputs": [],
   "source": []
  }
 ],
 "metadata": {
  "interpreter": {
   "hash": "cc5406e9a0deef8e8d80dfeae7f152b84172dd1229ee5c42b512f2c6ec6850e3"
  },
  "kernelspec": {
   "display_name": "Python 3 (ipykernel)",
   "language": "python",
   "name": "python3"
  },
  "language_info": {
   "codemirror_mode": {
    "name": "ipython",
    "version": 3
   },
   "file_extension": ".py",
   "mimetype": "text/x-python",
   "name": "python",
   "nbconvert_exporter": "python",
   "pygments_lexer": "ipython3",
   "version": "3.10.9"
  },
  "varInspector": {
   "cols": {
    "lenName": 16,
    "lenType": 16,
    "lenVar": 40
   },
   "kernels_config": {
    "python": {
     "delete_cmd_postfix": "",
     "delete_cmd_prefix": "del ",
     "library": "var_list.py",
     "varRefreshCmd": "print(var_dic_list())"
    },
    "r": {
     "delete_cmd_postfix": ") ",
     "delete_cmd_prefix": "rm(",
     "library": "var_list.r",
     "varRefreshCmd": "cat(var_dic_list()) "
    }
   },
   "types_to_exclude": [
    "module",
    "function",
    "builtin_function_or_method",
    "instance",
    "_Feature"
   ],
   "window_display": false
  }
 },
 "nbformat": 4,
 "nbformat_minor": 4
}
